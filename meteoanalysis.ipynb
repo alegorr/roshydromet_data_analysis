{
 "cells": [
  {
   "cell_type": "code",
   "execution_count": null,
   "metadata": {},
   "outputs": [],
   "source": [
    "import pandas as pd\n",
    "import numpy as np\n",
    "import scipy as sp\n",
    "import scipy.stats as st\n",
    "import plotly.offline as py\n",
    "import plotly.graph_objs as go\n",
    "import os\n",
    "import re"
   ]
  },
  {
   "cell_type": "code",
   "execution_count": null,
   "metadata": {},
   "outputs": [],
   "source": [
    "py.init_notebook_mode(connected=True)"
   ]
  },
  {
   "cell_type": "code",
   "execution_count": null,
   "metadata": {},
   "outputs": [],
   "source": [
    "DATA_PATH = os.path.join('data','wr201126')\n",
    "DATA_MAIN_PATH = os.path.join(DATA_PATH, 'wr201126.txt')\n",
    "DATA_METEOSTATIONS_PATH = os.path.join(DATA_PATH, 'statlist201126.txt')\n",
    "DATA_FIELDS_PATH = os.path.join(DATA_PATH, 'fld201126a0.txt')"
   ]
  },
  {
   "cell_type": "code",
   "execution_count": null,
   "metadata": {},
   "outputs": [],
   "source": [
    "assert os.path.isdir(DATA_PATH)\n",
    "assert os.path.isfile(DATA_MAIN_PATH)\n",
    "assert os.path.isfile(DATA_METEOSTATIONS_PATH)\n",
    "assert os.path.isfile(DATA_FIELDS_PATH)"
   ]
  },
  {
   "cell_type": "code",
   "execution_count": null,
   "metadata": {},
   "outputs": [],
   "source": [
    "meteostations = []\n",
    "with open(DATA_METEOSTATIONS_PATH, encoding=\"WINDOWS-1251\") as f:\n",
    "    for line in f.readlines():\n",
    "        m_data = re.split(\"\\s+\", line)[:-1]\n",
    "        if len(m_data) > 3:\n",
    "            m_name = \" \".join(m_data[1:-2]).strip()\n",
    "            meteostations.append([m_data[0], m_name, m_data[-1]])\n",
    "        else:\n",
    "            meteostations.append(m_data)\n",
    "for m_data in meteostations:\n",
    "    assert len(m_data) == 3\n",
    "df_meteostations = pd.DataFrame(meteostations, columns=[\"Индекс ВМО\", \"Название станции\", \"Страна\"])"
   ]
  },
  {
   "cell_type": "code",
   "execution_count": null,
   "metadata": {},
   "outputs": [],
   "source": [
    "header = []\n",
    "with open(DATA_FIELDS_PATH, encoding=\"WINDOWS-1251\") as f:\n",
    "    header = [ \" \".join(re.split(\"\\s+\", s)[4:]).strip() for s in f.readlines() ]\n",
    "assert len(header) == 9"
   ]
  },
  {
   "cell_type": "code",
   "execution_count": null,
   "metadata": {},
   "outputs": [],
   "source": [
    "df = pd.read_csv(DATA_MAIN_PATH, sep=\";\", header=None, names=header)"
   ]
  },
  {
   "cell_type": "code",
   "execution_count": null,
   "metadata": {
    "scrolled": true
   },
   "outputs": [],
   "source": [
    "df"
   ]
  },
  {
   "cell_type": "code",
   "execution_count": null,
   "metadata": {
    "scrolled": true
   },
   "outputs": [],
   "source": [
    "df_meteostations[df_meteostations[\"Название станции\"].str.contains(\"Москва\")]"
   ]
  },
  {
   "cell_type": "code",
   "execution_count": null,
   "metadata": {},
   "outputs": [],
   "source": [
    "date_column = pd.DataFrame(pd.to_datetime(df.Год*10000+df.Месяц*100+df.День,format='%Y%m%d'))\n",
    "df.insert(1,\"Дата\",date_column)\n",
    "df = df.set_index(\"Дата\")"
   ]
  },
  {
   "cell_type": "code",
   "execution_count": null,
   "metadata": {},
   "outputs": [],
   "source": [
    "df.dropna()\n",
    "df = df.drop([\"Год\",\"Месяц\", \"День\"], axis=1)"
   ]
  },
  {
   "cell_type": "code",
   "execution_count": null,
   "metadata": {},
   "outputs": [],
   "source": [
    "df"
   ]
  },
  {
   "cell_type": "code",
   "execution_count": null,
   "metadata": {},
   "outputs": [],
   "source": [
    "df = df[df[\"Общий признак качества температур\"] != 9]\n",
    "df = df.drop([\"Общий признак качества температур\"], axis=1)"
   ]
  },
  {
   "cell_type": "code",
   "execution_count": null,
   "metadata": {},
   "outputs": [],
   "source": [
    "_tp_cols = header[5:9]\n",
    "_t_cols = _tp_cols[0:3]\n",
    "_p_col = _tp_cols[3]\n",
    "\n",
    "print(_tp_cols, _t_cols, _p_col)"
   ]
  },
  {
   "cell_type": "code",
   "execution_count": null,
   "metadata": {
    "scrolled": true
   },
   "outputs": [],
   "source": [
    "print(\"Количество пропусков в данных\")\n",
    "print(\"-----------------------------\")\n",
    "for _col in _tp_cols:\n",
    "    n_voids = 0\n",
    "    for value in df[_col].tolist():\n",
    "        if re.match(\"^\\s+$\", value):\n",
    "            n_voids += 1\n",
    "    print(\"{}: {} из {} ({:.2}%)\".format(_col, n_voids, df.shape[0], n_voids * 100.0 / float(df.shape[0])))"
   ]
  },
  {
   "cell_type": "code",
   "execution_count": null,
   "metadata": {},
   "outputs": [],
   "source": [
    "v = \"     \"\n",
    "dft = df[(df[_t_cols[0]] != v) & (df[_t_cols[1]] != v) & (df[_t_cols[2]] != v)]\n",
    "dft = dft.drop([_p_col], axis=1)\n",
    "dfp = df[ df[_p_col] != v ]\n",
    "dfp = dfp.drop(_t_cols, axis=1)\n",
    "dftp = df[(df[_t_cols[0]] != v) & (df[_t_cols[1]] != v) & (df[_t_cols[2]] != v) & (df[_p_col] != v) ]"
   ]
  },
  {
   "cell_type": "code",
   "execution_count": null,
   "metadata": {},
   "outputs": [],
   "source": [
    "dftp.info()"
   ]
  },
  {
   "cell_type": "code",
   "execution_count": null,
   "metadata": {},
   "outputs": [],
   "source": [
    "for _column in _t_cols:\n",
    "    dft[_column] = dft[_column].astype(float)\n",
    "dfp[_p_col] = dfp[_p_col].astype(float)\n",
    "for _column in _tp_cols:\n",
    "    dftp[_column] = dftp[_column].astype(float)\n",
    "dftp[_p_col] = dftp[_p_col].astype(float)"
   ]
  },
  {
   "cell_type": "code",
   "execution_count": null,
   "metadata": {},
   "outputs": [],
   "source": [
    "data = dft[_t_cols].resample(\"Y\").mean()\n",
    "layout = go.Layout(\n",
    "    title=\"График изменения температуры воздуха (по годам)\",\n",
    "    xaxis=dict(title = \"Дата\", type='date'),\n",
    "    yaxis=dict(title = \"Температура воздуха, °C\"),\n",
    ")\n",
    "temperature_traces = []\n",
    "for _t_col in _t_cols:\n",
    "    temperature_traces.append(go.Scatter(x = data.index, y = data[_t_col], name = _t_col))\n",
    "py.iplot(go.Figure(data=temperature_traces, layout=layout))"
   ]
  },
  {
   "cell_type": "code",
   "execution_count": null,
   "metadata": {},
   "outputs": [],
   "source": [
    "data = dft[[_t_cols[1]]].resample(\"Y\").mean().rolling(10, min_periods=10).mean().dropna()\n",
    "\n",
    "layout = go.Layout(\n",
    "    title=\"График изменения среднегодовой температуры воздуха усредненной за период декады (10 лет)\",\n",
    "    xaxis=dict(title = \"Время, год\", type='date'),\n",
    "    yaxis=dict(title = \"Температура воздуха, °C\"),\n",
    ")\n",
    "\n",
    "trace1 = go.Scatter(x = data.index, y=data[_t_cols[1]], name=_t_cols[1])\n",
    "py.iplot(go.Figure(data=[trace1], layout=layout))"
   ]
  },
  {
   "cell_type": "code",
   "execution_count": null,
   "metadata": {
    "scrolled": true
   },
   "outputs": [],
   "source": [
    "data = dft[dft.index > \"1988-01-01\"][[_t_cols[1]]].resample(\"Y\").mean().rolling(10, min_periods=10).mean().dropna()\n",
    "\n",
    "temperature = data[_t_cols[1]].tolist()\n",
    "idx = np.arange(0,len(temperature))\n",
    "slope, intercept, r_value, p_value, std_err = st.linregress(idx,temperature)\n",
    "line = slope * idx + intercept\n",
    "\n",
    "layout = go.Layout(\n",
    "    title=\"График изменения среднегодовой температуры воздуха усредненной за период декады (10 лет)\",\n",
    "    xaxis=dict(title = \"Время, год\", type='date'),\n",
    "    yaxis=dict(title = \"Температура воздуха, °C\"),\n",
    ")\n",
    "\n",
    "trace1 = go.Scatter(x = data.index, y=data[_t_cols[1]], name=_t_cols[1])\n",
    "trace2 = go.Scatter(x = data.index, y=line, name='Линия тренда')\n",
    "py.iplot(go.Figure(data=[trace1, trace2], layout=layout))"
   ]
  },
  {
   "cell_type": "code",
   "execution_count": null,
   "metadata": {},
   "outputs": [],
   "source": [
    "print(\"Температура воздуха c 1988-го года возрастает в среднем на {} °C за год\".format(round(slope,2)))"
   ]
  },
  {
   "cell_type": "code",
   "execution_count": null,
   "metadata": {},
   "outputs": [],
   "source": [
    "print(\"Через 10 лет средняя среднегодовая приповерхностная температура воздуха составит {:.2}°C\".format(data[-1:][_t_cols[1]][0] + round(slope,2) * 77))"
   ]
  },
  {
   "cell_type": "code",
   "execution_count": null,
   "metadata": {},
   "outputs": [],
   "source": [
    "data = dfp[[_p_col]].resample(\"Y\").sum() / 600\n",
    "layout = go.Layout(\n",
    "    title=\"График изменения суммы осадков (по годам)\",\n",
    "    xaxis=dict(title = \"Дата\", type='date'),\n",
    "    yaxis=dict(title = \"Атмосферные осадки, мм\"),\n",
    ")\n",
    "precipitation_traces = []\n",
    "precipitation_traces.append(go.Scatter(x = data.index, y = data[_p_col], name = _p_col))\n",
    "py.iplot(go.Figure(data=precipitation_traces, layout=layout))"
   ]
  },
  {
   "cell_type": "code",
   "execution_count": null,
   "metadata": {},
   "outputs": [],
   "source": [
    "data = dfp[[_p_col]].resample(\"Y\").sum().rolling(10, min_periods=10).mean().dropna() / 600\n",
    "\n",
    "layout = go.Layout(\n",
    "    title=\"График изменения годовой суммы атмосферных осадков усредненной за период декады (10 лет)\",\n",
    "    xaxis=dict(title = \"Время, год\", type='date'),\n",
    "    yaxis=dict(title = \"Атмосферные осадки, мм\"),\n",
    ")\n",
    "\n",
    "trace1 = go.Scatter(x = data.index, y=data[_p_col], name=_p_col)\n",
    "py.iplot(go.Figure(data=[trace1], layout=layout))"
   ]
  },
  {
   "cell_type": "code",
   "execution_count": null,
   "metadata": {},
   "outputs": [],
   "source": [
    "data = dfp[dfp.index < \"1975-01-01\"][[_p_col]].resample(\"Y\").sum().rolling(10, min_periods=10).mean().dropna() / 600\n",
    "\n",
    "precipitation = data[_p_col].tolist()\n",
    "idx = np.arange(0,len(precipitation))\n",
    "slope, intercept, r_value, p_value, std_err = st.linregress(idx,precipitation)\n",
    "line = slope * idx + intercept\n",
    "\n",
    "layout = go.Layout(\n",
    "    title=\"График изменения годовой суммы атмосферных осадков усредненной за период декады до 1975-го года\",\n",
    "    xaxis=dict(title = \"Время, год\", type='date'),\n",
    "    yaxis=dict(title = \"Атмосферные осадки, мм\"),\n",
    ")\n",
    "\n",
    "trace1 = go.Scatter(x = data.index, y=data[_p_col], name=\"Исходные данные\")\n",
    "trace2 = go.Scatter(x = data.index, y=line, name='Линия тренда')\n",
    "py.iplot(go.Figure(data=[trace1,trace2], layout=layout))"
   ]
  },
  {
   "cell_type": "code",
   "execution_count": null,
   "metadata": {},
   "outputs": [],
   "source": [
    "print(\"Атмосферные осадки до 1975-го года возрастают в среднем на {} мм за год\".format(round(slope,2)))"
   ]
  },
  {
   "cell_type": "code",
   "execution_count": null,
   "metadata": {},
   "outputs": [],
   "source": [
    "print(\"За период с 1950 по 1975 годы атмосферные осадки выросли на {}%\".format(int(100.0 * (475.0 - 349.0) / 349.0)))"
   ]
  },
  {
   "cell_type": "code",
   "execution_count": null,
   "metadata": {},
   "outputs": [],
   "source": [
    "data = dfp[dfp.index > \"1975-01-01\"][[_p_col]].resample(\"Y\").sum().rolling(10, min_periods=10).mean().dropna() / 600\n",
    "\n",
    "precipitation = data[_p_col].tolist()\n",
    "idx = np.arange(0,len(precipitation))\n",
    "slope, intercept, r_value, p_value, std_err = st.linregress(idx,precipitation)\n",
    "line = slope * idx + intercept\n",
    "\n",
    "layout = go.Layout(\n",
    "    title=\"График изменения годовой суммы атмосферных осадков усредненной за период декады после 1975-го года\",\n",
    "    xaxis=dict(title = \"Время, год\", type='date'),\n",
    "    yaxis=dict(title = \"Атмосферные осадки, мм\"),\n",
    ")\n",
    "\n",
    "trace1 = go.Scatter(x = data.index, y=data[_p_col], name=\"Исходные данные\")\n",
    "trace2 = go.Scatter(x = data.index, y=line, name='Линия тренда')\n",
    "py.iplot(go.Figure(data=[trace1,trace2], layout=layout))"
   ]
  },
  {
   "cell_type": "code",
   "execution_count": null,
   "metadata": {},
   "outputs": [],
   "source": [
    "print(\"Атмосферные осадки с 1975-го года убывают в среднем на {} мм за год\".format(round(-slope,2)))"
   ]
  }
 ],
 "metadata": {
  "kernelspec": {
   "display_name": "Python 3",
   "language": "python",
   "name": "python3"
  },
  "language_info": {
   "codemirror_mode": {
    "name": "ipython",
    "version": 3
   },
   "file_extension": ".py",
   "mimetype": "text/x-python",
   "name": "python",
   "nbconvert_exporter": "python",
   "pygments_lexer": "ipython3",
   "version": "3.6.9"
  }
 },
 "nbformat": 4,
 "nbformat_minor": 2
}
